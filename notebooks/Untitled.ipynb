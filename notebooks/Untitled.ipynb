{
 "cells": [
  {
   "cell_type": "code",
   "execution_count": 2,
   "id": "fcf2c4bb-25a5-41d6-9452-c237dad15dd1",
   "metadata": {},
   "outputs": [],
   "source": [
    "import os\n",
    "os.chdir('../')"
   ]
  },
  {
   "cell_type": "code",
   "execution_count": 3,
   "id": "905f55b5-2838-4af1-b2e6-7eddd56e5dae",
   "metadata": {},
   "outputs": [],
   "source": [
    "from pathlib import Path\n",
    "import shutil"
   ]
  },
  {
   "cell_type": "code",
   "execution_count": 4,
   "id": "1ff51108-6501-46e1-ae8c-3e74990e2ace",
   "metadata": {},
   "outputs": [],
   "source": [
    "root_path = Path('./data/')"
   ]
  },
  {
   "cell_type": "code",
   "execution_count": 13,
   "id": "acc85a4c-2592-4e80-bf18-8d92681625a9",
   "metadata": {},
   "outputs": [],
   "source": [
    "source_path = root_path / 'output-images' / 'combined_mona_lisa_edtaonisl'\n",
    "source_file = sorted(list(source_path.glob('*.jpg')))[-1]"
   ]
  },
  {
   "cell_type": "code",
   "execution_count": 16,
   "id": "8f213b8c-1785-4532-bd0d-eaa8a2ba1307",
   "metadata": {},
   "outputs": [],
   "source": [
    "destination_folder = root_path / 'output' / 'images' \n",
    "destination_folder.mkdir(exist_ok=True, parents=True)\n",
    "\n",
    "image_name = '0'\n",
    "destination_file = destination_folder / (image_name + '.jpg')"
   ]
  },
  {
   "cell_type": "code",
   "execution_count": 17,
   "id": "38db5edb-5cf6-4534-8bd5-54e00813a6cf",
   "metadata": {},
   "outputs": [
    {
     "data": {
      "text/plain": [
       "PosixPath('data/output/images/0.jpg')"
      ]
     },
     "execution_count": 17,
     "metadata": {},
     "output_type": "execute_result"
    }
   ],
   "source": [
    "shutil.copy(source_file, destination_file)"
   ]
  },
  {
   "cell_type": "code",
   "execution_count": null,
   "id": "4dc7a6eb-61df-4674-b8f2-d3e18a70f984",
   "metadata": {},
   "outputs": [],
   "source": []
  }
 ],
 "metadata": {
  "kernelspec": {
   "display_name": "Python 3 (ipykernel)",
   "language": "python",
   "name": "python3"
  },
  "language_info": {
   "codemirror_mode": {
    "name": "ipython",
    "version": 3
   },
   "file_extension": ".py",
   "mimetype": "text/x-python",
   "name": "python",
   "nbconvert_exporter": "python",
   "pygments_lexer": "ipython3",
   "version": "3.7.6"
  }
 },
 "nbformat": 4,
 "nbformat_minor": 5
}
