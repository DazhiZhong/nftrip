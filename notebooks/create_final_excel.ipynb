{
 "cells": [
  {
   "cell_type": "code",
   "execution_count": 1,
   "id": "1f40a9b2-f942-43f9-b7f4-485205e43792",
   "metadata": {},
   "outputs": [],
   "source": [
    "import os\n",
    "os.chdir('../')"
   ]
  },
  {
   "cell_type": "code",
   "execution_count": 54,
   "id": "75685766-6217-4e99-a2e8-90e33266aa3e",
   "metadata": {},
   "outputs": [],
   "source": [
    "import pandas as pd\n",
    "from pathlib import Path\n",
    "from PIL import Image\n",
    "import json\n",
    "import random\n",
    "import subprocess\n",
    "from tqdm import tqdm"
   ]
  },
  {
   "cell_type": "code",
   "execution_count": 3,
   "id": "af956699-415d-4bc9-83c8-0139194a5833",
   "metadata": {},
   "outputs": [],
   "source": [
    "root_path = Path('./data/')"
   ]
  },
  {
   "cell_type": "code",
   "execution_count": 4,
   "id": "40c94e8f-91fd-4c56-adb9-bb24a1119d78",
   "metadata": {},
   "outputs": [
    {
     "data": {
      "text/plain": [
       "((126, 8), (100, 6))"
      ]
     },
     "execution_count": 4,
     "metadata": {},
     "output_type": "execute_result"
    }
   ],
   "source": [
    "style_df = pd.read_csv(root_path / 'metadata' / 'style.csv')\n",
    "style_df = style_df[~style_df['File_name'].isna()]\n",
    "style_df = style_df.sort_values('File_name').reset_index(drop=True)\n",
    "\n",
    "content_df = pd.read_csv(root_path / 'metadata' / 'content.csv')\n",
    "content_df = content_df[~content_df['File_name'].isna()]\n",
    "content_df = content_df.sort_values('File_name').reset_index(drop=True)\n",
    "\n",
    "content_df.shape, style_df.shape"
   ]
  },
  {
   "cell_type": "code",
   "execution_count": 43,
   "id": "08c06890-00ae-4d56-a7ff-140502cba78e",
   "metadata": {},
   "outputs": [],
   "source": [
    "def cartesian_product(d):\n",
    "    index = pd.MultiIndex.from_product(d.values(), names=d.keys())\n",
    "    return pd.DataFrame(index=index).reset_index()\n",
    "\n",
    "weights = [5e4]\n",
    "\n",
    "prod = cartesian_product({\n",
    "    'content': content_df['File_name'],\n",
    "    'style': style_df['File_name'],\n",
    "    'weight': weights,\n",
    "})\n",
    "\n",
    "prod['index'] = list(prod.index+1)\n",
    "prod['gifs'] = False\n",
    "prod['images'] = False\n",
    "prod['metadata'] = False\n",
    "prod['to_review'] = False"
   ]
  },
  {
   "cell_type": "code",
   "execution_count": 44,
   "id": "0dc3d656-c362-4e9f-8918-9f553d7280ca",
   "metadata": {},
   "outputs": [],
   "source": [
    "import boto3\n",
    "client = boto3.client('s3')"
   ]
  },
  {
   "cell_type": "code",
   "execution_count": 45,
   "id": "11c96f53-1faf-4ee6-8bec-9847498b1e6a",
   "metadata": {},
   "outputs": [],
   "source": [
    "def iterate_bucket_items(bucket, prefix):\n",
    "    \"\"\"\n",
    "    Generator that iterates over all objects in a given s3 bucket\n",
    "\n",
    "    See http://boto3.readthedocs.io/en/latest/reference/services/s3.html#S3.Client.list_objects_v2 \n",
    "    for return data format\n",
    "    :param bucket: name of s3 bucket\n",
    "    :return: dict of metadata for an object\n",
    "    \"\"\"\n",
    "\n",
    "    paginator = client.get_paginator('list_objects_v2')\n",
    "    page_iterator = paginator.paginate(Bucket=bucket, Prefix=prefix)\n",
    "\n",
    "    for page in page_iterator:\n",
    "        if page['KeyCount'] > 0:\n",
    "            for item in page['Contents']:\n",
    "                yield item"
   ]
  },
  {
   "cell_type": "code",
   "execution_count": 52,
   "id": "cc3bcc92-0977-42c5-b07d-d49eba0dd059",
   "metadata": {},
   "outputs": [],
   "source": [
    "def check_component(component):\n",
    "    prefix = f'output/{component}/'\n",
    "    \n",
    "    for item in tqdm(iterate_bucket_items(bucket='neuralism-assets', prefix=prefix)):\n",
    "        if '.' not in item['Key']:\n",
    "            continue\n",
    "            \n",
    "        print(f\"Processing item {item['Key']}\")\n",
    "            \n",
    "        key = item['Key'].split('/')[-1].split('.')[0]\n",
    "        if component=='gifs':\n",
    "            key = key[1:]\n",
    "        \n",
    "        prod.loc[prod['index']==int(key), component] = True\n",
    "        \n",
    "        break"
   ]
  },
  {
   "cell_type": "code",
   "execution_count": 55,
   "id": "efec7dae-8ba0-4650-8c3d-fa0f1bd8353e",
   "metadata": {},
   "outputs": [
    {
     "name": "stderr",
     "output_type": "stream",
     "text": [
      "1it [00:00,  1.73it/s]\n"
     ]
    },
    {
     "name": "stdout",
     "output_type": "stream",
     "text": [
      "Processing item output/gifs/g1.gif\n"
     ]
    },
    {
     "name": "stderr",
     "output_type": "stream",
     "text": [
      "1it [00:00,  3.69it/s]\n"
     ]
    },
    {
     "name": "stdout",
     "output_type": "stream",
     "text": [
      "Processing item output/images/1.jpg\n"
     ]
    },
    {
     "name": "stderr",
     "output_type": "stream",
     "text": [
      "1it [00:00,  4.44it/s]"
     ]
    },
    {
     "name": "stdout",
     "output_type": "stream",
     "text": [
      "Processing item output/metadata/1.json\n"
     ]
    },
    {
     "name": "stderr",
     "output_type": "stream",
     "text": [
      "\n"
     ]
    }
   ],
   "source": [
    "check_component('gifs')\n",
    "check_component('images')\n",
    "check_component('metadata')"
   ]
  },
  {
   "cell_type": "code",
   "execution_count": 56,
   "id": "0edeff11-19d1-4c84-b2be-8541338689f6",
   "metadata": {},
   "outputs": [
    {
     "data": {
      "text/html": [
       "<div>\n",
       "<style scoped>\n",
       "    .dataframe tbody tr th:only-of-type {\n",
       "        vertical-align: middle;\n",
       "    }\n",
       "\n",
       "    .dataframe tbody tr th {\n",
       "        vertical-align: top;\n",
       "    }\n",
       "\n",
       "    .dataframe thead th {\n",
       "        text-align: right;\n",
       "    }\n",
       "</style>\n",
       "<table border=\"1\" class=\"dataframe\">\n",
       "  <thead>\n",
       "    <tr style=\"text-align: right;\">\n",
       "      <th></th>\n",
       "      <th>content</th>\n",
       "      <th>style</th>\n",
       "      <th>weight</th>\n",
       "      <th>index</th>\n",
       "      <th>gifs</th>\n",
       "      <th>images</th>\n",
       "      <th>metadata</th>\n",
       "      <th>to_review</th>\n",
       "    </tr>\n",
       "  </thead>\n",
       "  <tbody>\n",
       "    <tr>\n",
       "      <th>0</th>\n",
       "      <td>acrobat_and_young_harlequin.jpg</td>\n",
       "      <td>alpine_pasture.jfif</td>\n",
       "      <td>50000.0</td>\n",
       "      <td>1</td>\n",
       "      <td>True</td>\n",
       "      <td>True</td>\n",
       "      <td>True</td>\n",
       "      <td>False</td>\n",
       "    </tr>\n",
       "    <tr>\n",
       "      <th>1</th>\n",
       "      <td>acrobat_and_young_harlequin.jpg</td>\n",
       "      <td>ameisenhaufen.jpg</td>\n",
       "      <td>50000.0</td>\n",
       "      <td>2</td>\n",
       "      <td>False</td>\n",
       "      <td>False</td>\n",
       "      <td>False</td>\n",
       "      <td>False</td>\n",
       "    </tr>\n",
       "    <tr>\n",
       "      <th>2</th>\n",
       "      <td>acrobat_and_young_harlequin.jpg</td>\n",
       "      <td>animals_in_a_landscape.jpg</td>\n",
       "      <td>50000.0</td>\n",
       "      <td>3</td>\n",
       "      <td>False</td>\n",
       "      <td>False</td>\n",
       "      <td>False</td>\n",
       "      <td>False</td>\n",
       "    </tr>\n",
       "    <tr>\n",
       "      <th>3</th>\n",
       "      <td>acrobat_and_young_harlequin.jpg</td>\n",
       "      <td>battle_of_lights.jpg</td>\n",
       "      <td>50000.0</td>\n",
       "      <td>4</td>\n",
       "      <td>False</td>\n",
       "      <td>False</td>\n",
       "      <td>False</td>\n",
       "      <td>False</td>\n",
       "    </tr>\n",
       "    <tr>\n",
       "      <th>4</th>\n",
       "      <td>acrobat_and_young_harlequin.jpg</td>\n",
       "      <td>bed_of_chrysanthemums.jpg</td>\n",
       "      <td>50000.0</td>\n",
       "      <td>5</td>\n",
       "      <td>False</td>\n",
       "      <td>False</td>\n",
       "      <td>False</td>\n",
       "      <td>False</td>\n",
       "    </tr>\n",
       "    <tr>\n",
       "      <th>...</th>\n",
       "      <td>...</td>\n",
       "      <td>...</td>\n",
       "      <td>...</td>\n",
       "      <td>...</td>\n",
       "      <td>...</td>\n",
       "      <td>...</td>\n",
       "      <td>...</td>\n",
       "      <td>...</td>\n",
       "    </tr>\n",
       "    <tr>\n",
       "      <th>12595</th>\n",
       "      <td>witches_sabbath.jpg</td>\n",
       "      <td>view_of_toledo.jpg</td>\n",
       "      <td>50000.0</td>\n",
       "      <td>12596</td>\n",
       "      <td>False</td>\n",
       "      <td>False</td>\n",
       "      <td>False</td>\n",
       "      <td>False</td>\n",
       "    </tr>\n",
       "    <tr>\n",
       "      <th>12596</th>\n",
       "      <td>witches_sabbath.jpg</td>\n",
       "      <td>wall.jpg</td>\n",
       "      <td>50000.0</td>\n",
       "      <td>12597</td>\n",
       "      <td>False</td>\n",
       "      <td>False</td>\n",
       "      <td>False</td>\n",
       "      <td>False</td>\n",
       "    </tr>\n",
       "    <tr>\n",
       "      <th>12597</th>\n",
       "      <td>witches_sabbath.jpg</td>\n",
       "      <td>wasserschlangen_ii.jpeg</td>\n",
       "      <td>50000.0</td>\n",
       "      <td>12598</td>\n",
       "      <td>False</td>\n",
       "      <td>False</td>\n",
       "      <td>False</td>\n",
       "      <td>False</td>\n",
       "    </tr>\n",
       "    <tr>\n",
       "      <th>12598</th>\n",
       "      <td>witches_sabbath.jpg</td>\n",
       "      <td>wheat_field_with_cypresses.jfif</td>\n",
       "      <td>50000.0</td>\n",
       "      <td>12599</td>\n",
       "      <td>False</td>\n",
       "      <td>False</td>\n",
       "      <td>False</td>\n",
       "      <td>False</td>\n",
       "    </tr>\n",
       "    <tr>\n",
       "      <th>12599</th>\n",
       "      <td>witches_sabbath.jpg</td>\n",
       "      <td>yellow_accompaniment.jpg</td>\n",
       "      <td>50000.0</td>\n",
       "      <td>12600</td>\n",
       "      <td>False</td>\n",
       "      <td>False</td>\n",
       "      <td>False</td>\n",
       "      <td>False</td>\n",
       "    </tr>\n",
       "  </tbody>\n",
       "</table>\n",
       "<p>12600 rows × 8 columns</p>\n",
       "</div>"
      ],
      "text/plain": [
       "                               content                            style  \\\n",
       "0      acrobat_and_young_harlequin.jpg              alpine_pasture.jfif   \n",
       "1      acrobat_and_young_harlequin.jpg                ameisenhaufen.jpg   \n",
       "2      acrobat_and_young_harlequin.jpg       animals_in_a_landscape.jpg   \n",
       "3      acrobat_and_young_harlequin.jpg             battle_of_lights.jpg   \n",
       "4      acrobat_and_young_harlequin.jpg        bed_of_chrysanthemums.jpg   \n",
       "...                                ...                              ...   \n",
       "12595              witches_sabbath.jpg               view_of_toledo.jpg   \n",
       "12596              witches_sabbath.jpg                         wall.jpg   \n",
       "12597              witches_sabbath.jpg          wasserschlangen_ii.jpeg   \n",
       "12598              witches_sabbath.jpg  wheat_field_with_cypresses.jfif   \n",
       "12599              witches_sabbath.jpg         yellow_accompaniment.jpg   \n",
       "\n",
       "        weight  index   gifs  images  metadata  to_review  \n",
       "0      50000.0      1   True    True      True      False  \n",
       "1      50000.0      2  False   False     False      False  \n",
       "2      50000.0      3  False   False     False      False  \n",
       "3      50000.0      4  False   False     False      False  \n",
       "4      50000.0      5  False   False     False      False  \n",
       "...        ...    ...    ...     ...       ...        ...  \n",
       "12595  50000.0  12596  False   False     False      False  \n",
       "12596  50000.0  12597  False   False     False      False  \n",
       "12597  50000.0  12598  False   False     False      False  \n",
       "12598  50000.0  12599  False   False     False      False  \n",
       "12599  50000.0  12600  False   False     False      False  \n",
       "\n",
       "[12600 rows x 8 columns]"
      ]
     },
     "execution_count": 56,
     "metadata": {},
     "output_type": "execute_result"
    }
   ],
   "source": [
    "prod"
   ]
  },
  {
   "cell_type": "code",
   "execution_count": 57,
   "id": "d5c4fb32-35d0-48bb-ae62-42573f3a783f",
   "metadata": {},
   "outputs": [],
   "source": [
    "prod.to_csv('final_excel.csv', index=False)"
   ]
  }
 ],
 "metadata": {
  "kernelspec": {
   "display_name": "Python [conda env:pytorch-nst] *",
   "language": "python",
   "name": "conda-env-pytorch-nst-py"
  },
  "language_info": {
   "codemirror_mode": {
    "name": "ipython",
    "version": 3
   },
   "file_extension": ".py",
   "mimetype": "text/x-python",
   "name": "python",
   "nbconvert_exporter": "python",
   "pygments_lexer": "ipython3",
   "version": "3.7.6"
  }
 },
 "nbformat": 4,
 "nbformat_minor": 5
}
