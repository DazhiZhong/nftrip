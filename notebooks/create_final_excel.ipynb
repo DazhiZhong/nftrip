{
 "cells": [
  {
   "cell_type": "code",
   "execution_count": 1,
   "id": "1f40a9b2-f942-43f9-b7f4-485205e43792",
   "metadata": {},
   "outputs": [],
   "source": [
    "import os\n",
    "os.chdir('../')"
   ]
  },
  {
   "cell_type": "code",
   "execution_count": 2,
   "id": "75685766-6217-4e99-a2e8-90e33266aa3e",
   "metadata": {},
   "outputs": [],
   "source": [
    "import pandas as pd\n",
    "from pathlib import Path\n",
    "from PIL import Image\n",
    "import json\n",
    "import random\n",
    "import subprocess\n",
    "from tqdm.notebook import tqdm\n",
    "from ipywidgets import FloatProgress"
   ]
  },
  {
   "cell_type": "code",
   "execution_count": 3,
   "id": "af956699-415d-4bc9-83c8-0139194a5833",
   "metadata": {},
   "outputs": [],
   "source": [
    "root_path = Path('./data/')"
   ]
  },
  {
   "cell_type": "code",
   "execution_count": 4,
   "id": "40c94e8f-91fd-4c56-adb9-bb24a1119d78",
   "metadata": {},
   "outputs": [
    {
     "data": {
      "text/plain": [
       "((126, 8), (100, 6))"
      ]
     },
     "execution_count": 4,
     "metadata": {},
     "output_type": "execute_result"
    }
   ],
   "source": [
    "style_df = pd.read_csv(root_path / 'metadata' / 'style.csv')\n",
    "style_df = style_df[~style_df['File_name'].isna()]\n",
    "style_df = style_df.sort_values('File_name').reset_index(drop=True)\n",
    "\n",
    "content_df = pd.read_csv(root_path / 'metadata' / 'content.csv')\n",
    "content_df = content_df[~content_df['File_name'].isna()]\n",
    "content_df = content_df.sort_values('File_name').reset_index(drop=True)\n",
    "\n",
    "content_df.shape, style_df.shape"
   ]
  },
  {
   "cell_type": "code",
   "execution_count": 5,
   "id": "08c06890-00ae-4d56-a7ff-140502cba78e",
   "metadata": {},
   "outputs": [],
   "source": [
    "def cartesian_product(d):\n",
    "    index = pd.MultiIndex.from_product(d.values(), names=d.keys())\n",
    "    return pd.DataFrame(index=index).reset_index()\n",
    "\n",
    "weights = [5e4]\n",
    "\n",
    "prod = cartesian_product({\n",
    "    'content': content_df['File_name'],\n",
    "    'style': style_df['File_name'],\n",
    "    'weight': weights,\n",
    "})\n",
    "\n",
    "prod['index'] = list(prod.index+1)\n",
    "prod['gifs'] = False\n",
    "prod['images'] = False\n",
    "prod['metadata'] = False\n",
    "prod['to_review'] = False"
   ]
  },
  {
   "cell_type": "code",
   "execution_count": 6,
   "id": "e5a6f94f-b12c-4c97-81df-c29e65bc502a",
   "metadata": {},
   "outputs": [],
   "source": [
    "content_merged = prod.merge(content_df, left_on='content', right_on='File_name')\n",
    "content_merged = content_merged.drop(['Orientation', 'Resolution', 'File_name', 'Looks_good', 'Copyright link'], axis=1)\n",
    "content_merged.columns = ['content', 'style', 'weight', 'index', 'gifs', 'images', 'metadata', 'to_review', 'content_title', 'content_author', 'content_copyight']\n",
    "\n",
    "df = content_merged.merge(style_df, left_on='style', right_on='File_name')\n",
    "df = df.drop(['Resolution', 'File_name', 'Strength'], axis=1)\n",
    "df.columns = ['content', 'style', 'weight', 'index', 'gifs', 'images', 'metadata', 'to_review', 'content_title', 'content_author', 'content_copyright', 'style_title', 'style_author', 'style_copyright']\n",
    "\n",
    "df = df[['content', 'content_title', 'content_author', 'content_copyright', 'style', 'style_title', 'style_author', 'style_copyright', 'weight', 'index', 'gifs', 'images', 'metadata', 'to_review']]\n",
    "df[['content_copyright', 'style_copyright']] = False\n",
    "\n",
    "df = df.sort_values('index').reset_index(drop=True)"
   ]
  },
  {
   "cell_type": "code",
   "execution_count": 7,
   "id": "0dc3d656-c362-4e9f-8918-9f553d7280ca",
   "metadata": {},
   "outputs": [],
   "source": [
    "import boto3\n",
    "client = boto3.client('s3')"
   ]
  },
  {
   "cell_type": "code",
   "execution_count": 8,
   "id": "11c96f53-1faf-4ee6-8bec-9847498b1e6a",
   "metadata": {},
   "outputs": [],
   "source": [
    "def iterate_bucket_items(bucket, prefix):\n",
    "    \"\"\"\n",
    "    Generator that iterates over all objects in a given s3 bucket\n",
    "\n",
    "    See http://boto3.readthedocs.io/en/latest/reference/services/s3.html#S3.Client.list_objects_v2 \n",
    "    for return data format\n",
    "    :param bucket: name of s3 bucket\n",
    "    :return: dict of metadata for an object\n",
    "    \"\"\"\n",
    "\n",
    "    paginator = client.get_paginator('list_objects_v2')\n",
    "    page_iterator = paginator.paginate(Bucket=bucket, Prefix=prefix)\n",
    "\n",
    "    for page in page_iterator:\n",
    "        if page['KeyCount'] > 0:\n",
    "            for item in page['Contents']:\n",
    "                yield item"
   ]
  },
  {
   "cell_type": "code",
   "execution_count": 20,
   "id": "cc3bcc92-0977-42c5-b07d-d49eba0dd059",
   "metadata": {},
   "outputs": [],
   "source": [
    "def check_component(component):\n",
    "    prefix = f'output/{component}/'\n",
    "    \n",
    "    for item in tqdm(iterate_bucket_items(bucket='neuralism-assets', prefix=prefix), total=12500):\n",
    "        if '.' not in item['Key']:\n",
    "            continue\n",
    "            \n",
    "        key = item['Key'].split('/')[-1].split('.')[0]\n",
    "        if component=='gifs':\n",
    "            key = key[1:]\n",
    "        \n",
    "        df.loc[prod['index']==int(key), component] = True"
   ]
  },
  {
   "cell_type": "code",
   "execution_count": 21,
   "id": "efec7dae-8ba0-4650-8c3d-fa0f1bd8353e",
   "metadata": {
    "tags": []
   },
   "outputs": [
    {
     "data": {
      "application/vnd.jupyter.widget-view+json": {
       "model_id": "8305a632002b454ea83e50edd93927c0",
       "version_major": 2,
       "version_minor": 0
      },
      "text/plain": [
       "  0%|          | 0/12500 [00:00<?, ?it/s]"
      ]
     },
     "metadata": {},
     "output_type": "display_data"
    },
    {
     "data": {
      "application/vnd.jupyter.widget-view+json": {
       "model_id": "8d0187bc941c45e7bcbe27a0bdb16c45",
       "version_major": 2,
       "version_minor": 0
      },
      "text/plain": [
       "  0%|          | 0/12500 [00:00<?, ?it/s]"
      ]
     },
     "metadata": {},
     "output_type": "display_data"
    },
    {
     "data": {
      "application/vnd.jupyter.widget-view+json": {
       "model_id": "7f3dc501ccce48f7943ae6ed43d5db83",
       "version_major": 2,
       "version_minor": 0
      },
      "text/plain": [
       "  0%|          | 0/12500 [00:00<?, ?it/s]"
      ]
     },
     "metadata": {},
     "output_type": "display_data"
    }
   ],
   "source": [
    "check_component('gifs')\n",
    "check_component('images')\n",
    "check_component('metadata')"
   ]
  },
  {
   "cell_type": "code",
   "execution_count": 53,
   "id": "d5c4fb32-35d0-48bb-ae62-42573f3a783f",
   "metadata": {},
   "outputs": [],
   "source": [
    "df.to_csv('final_excel.csv', index=False)"
   ]
  },
  {
   "cell_type": "code",
   "execution_count": null,
   "id": "dd8f5de5-419e-4878-8041-a20be56cdaaf",
   "metadata": {},
   "outputs": [],
   "source": []
  }
 ],
 "metadata": {
  "kernelspec": {
   "display_name": "Python [conda env:pytorch-nst] *",
   "language": "python",
   "name": "conda-env-pytorch-nst-py"
  },
  "language_info": {
   "codemirror_mode": {
    "name": "ipython",
    "version": 3
   },
   "file_extension": ".py",
   "mimetype": "text/x-python",
   "name": "python",
   "nbconvert_exporter": "python",
   "pygments_lexer": "ipython3",
   "version": "3.7.6"
  }
 },
 "nbformat": 4,
 "nbformat_minor": 5
}
