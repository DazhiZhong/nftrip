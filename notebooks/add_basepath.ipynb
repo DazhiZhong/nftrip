{
 "cells": [
  {
   "cell_type": "code",
   "execution_count": 1,
   "id": "c0af55a1-e668-4a97-8d9a-8ac05915a818",
   "metadata": {},
   "outputs": [],
   "source": [
    "from pathlib import Path\n",
    "import json"
   ]
  },
  {
   "cell_type": "code",
   "execution_count": 2,
   "id": "bcc233ad-3f5d-4c09-9ac9-d17901453789",
   "metadata": {},
   "outputs": [],
   "source": [
    "import os\n",
    "os.chdir('../')"
   ]
  },
  {
   "cell_type": "code",
   "execution_count": null,
   "id": "12837cb1-6aec-4f4f-aa80-a34845121315",
   "metadata": {},
   "outputs": [],
   "source": [
    "def add_basepath(basepath):\n",
    "    paths = Path('data/output/metadata/').glob('*.json')\n",
    "    for path in paths:\n",
    "        with open(path, 'r') as f:\n",
    "            img_name = path.name.split('.')[0]\n",
    "            doc = json.load(f)\n",
    "            doc['image'] = f'{base_path}/{img_name}.jpg'\n",
    "            doc['animation_url'] = f'{base_path}/{img_name}.gif'\n",
    "\n",
    "        with open(path, 'w') as f:\n",
    "            json.dump(doc, f)"
   ]
  },
  {
   "cell_type": "code",
   "execution_count": null,
   "id": "958d3d1c-d0cf-4f7d-9854-9caed43a9b0c",
   "metadata": {},
   "outputs": [],
   "source": [
    "base_path = 'pinata'"
   ]
  }
 ],
 "metadata": {
  "kernelspec": {
   "display_name": "Python [conda env:pytorch-nst] *",
   "language": "python",
   "name": "conda-env-pytorch-nst-py"
  },
  "language_info": {
   "codemirror_mode": {
    "name": "ipython",
    "version": 3
   },
   "file_extension": ".py",
   "mimetype": "text/x-python",
   "name": "python",
   "nbconvert_exporter": "python",
   "pygments_lexer": "ipython3",
   "version": "3.7.6"
  }
 },
 "nbformat": 4,
 "nbformat_minor": 5
}
