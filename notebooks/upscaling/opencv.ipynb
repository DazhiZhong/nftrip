{
 "cells": [
  {
   "cell_type": "code",
   "execution_count": 1,
   "id": "5da37c6d-4de9-46ac-a0f4-0d09e1843d7d",
   "metadata": {},
   "outputs": [],
   "source": [
    "import imageio\n",
    "from pathlib import Path\n",
    "from PIL import Image\n",
    "import os"
   ]
  },
  {
   "cell_type": "code",
   "execution_count": 2,
   "id": "3b02cb60-8a12-43ba-820b-bff667d7b232",
   "metadata": {},
   "outputs": [],
   "source": [
    "os.chdir('../../')"
   ]
  },
  {
   "cell_type": "code",
   "execution_count": 3,
   "id": "2e918af2-5b0e-4ce3-a871-c70a96f533a5",
   "metadata": {},
   "outputs": [],
   "source": [
    "root_path = Path('data/output/images')\n",
    "img = root_path / 'social_media_mona_teller.jpg'"
   ]
  },
  {
   "cell_type": "code",
   "execution_count": 4,
   "id": "5d0c911d-8560-4f8e-8415-37998a79ee67",
   "metadata": {},
   "outputs": [],
   "source": [
    "import cv2\n",
    "from cv2 import dnn_superres\n",
    "\n",
    "# Create an SR object\n",
    "sr = dnn_superres.DnnSuperResImpl_create()\n",
    "\n",
    "# Read image\n",
    "image = cv2.imread(str(img))\n",
    "\n",
    "# Read the desired model\n",
    "path = \"models/EDSR_x4.pb\"\n",
    "sr.readModel(path)\n",
    "\n",
    "# Set the desired model and scale to get correct pre- and post-processing\n",
    "sr.setModel(\"edsr\", 4)"
   ]
  },
  {
   "cell_type": "code",
   "execution_count": 5,
   "id": "c5458418-5339-4d0b-a9e0-12749b76f74b",
   "metadata": {},
   "outputs": [
    {
     "name": "stdout",
     "output_type": "stream",
     "text": [
      "CPU times: user 24min 39s, sys: 2.88 s, total: 24min 42s\n",
      "Wall time: 6min 31s\n"
     ]
    },
    {
     "data": {
      "text/plain": [
       "True"
      ]
     },
     "execution_count": 5,
     "metadata": {},
     "output_type": "execute_result"
    }
   ],
   "source": [
    "%%time\n",
    "\n",
    "# Upscale the image\n",
    "result = sr.upsample(image)\n",
    "\n",
    "# Save the image\n",
    "cv2.imwrite(\"./upscaled_lisa.png\", result)"
   ]
  },
  {
   "cell_type": "code",
   "execution_count": null,
   "id": "d467defa-d31f-41db-b03c-a9f40e638ba4",
   "metadata": {},
   "outputs": [],
   "source": []
  }
 ],
 "metadata": {
  "kernelspec": {
   "display_name": "pytorch-nst:Python",
   "language": "python",
   "name": "conda-env-pytorch-nst-py"
  },
  "language_info": {
   "codemirror_mode": {
    "name": "ipython",
    "version": 3
   },
   "file_extension": ".py",
   "mimetype": "text/x-python",
   "name": "python",
   "nbconvert_exporter": "python",
   "pygments_lexer": "ipython3",
   "version": "3.7.6"
  }
 },
 "nbformat": 4,
 "nbformat_minor": 5
}
