{
 "cells": [
  {
   "cell_type": "code",
   "execution_count": 1,
   "id": "dfbb44e1",
   "metadata": {},
   "outputs": [],
   "source": [
    "import pandas as pd\n",
    "from pathlib import Path\n",
    "from PIL import Image\n",
    "import json\n",
    "import random\n",
    "import os\n",
    "import subprocess\n",
    "from shutil import copyfile"
   ]
  },
  {
   "cell_type": "code",
   "execution_count": 2,
   "id": "02cb1e7e",
   "metadata": {},
   "outputs": [],
   "source": [
    "root_path = Path('./data')\n",
    "folder = 'output-images/combined_lady_with_an_ermine_udnie'\n",
    "results_path = root_path / folder\n",
    "img_format = (4, '.jpg')"
   ]
  },
  {
   "cell_type": "code",
   "execution_count": 3,
   "id": "d883f56b",
   "metadata": {},
   "outputs": [
    {
     "data": {
      "text/plain": [
       "PosixPath('data/output-images/combined_lady_with_an_ermine_udnie')"
      ]
     },
     "execution_count": 3,
     "metadata": {},
     "output_type": "execute_result"
    }
   ],
   "source": [
    "results_path"
   ]
  },
  {
   "cell_type": "code",
   "execution_count": 4,
   "id": "7bd24189",
   "metadata": {},
   "outputs": [],
   "source": [
    "results = list(sorted(results_path.glob('*')))"
   ]
  },
  {
   "cell_type": "code",
   "execution_count": 5,
   "id": "89262ca6",
   "metadata": {},
   "outputs": [],
   "source": [
    "results = results[1:]"
   ]
  },
  {
   "cell_type": "code",
   "execution_count": 10,
   "id": "7ca9c9bb",
   "metadata": {},
   "outputs": [],
   "source": [
    "to_keep = []\n",
    "for i in range(10):\n",
    "    to_keep += [results[i]]*2\n",
    "\n",
    "for i in range(10, 100, 10):\n",
    "    to_keep += [results[i]]\n",
    "    \n",
    "for i in range(100, 1001, 50):\n",
    "    to_keep += [results[i]]\n",
    "\n",
    "to_keep += [to_keep[-1]]*10"
   ]
  },
  {
   "cell_type": "code",
   "execution_count": 12,
   "id": "6ffa8ac2",
   "metadata": {},
   "outputs": [],
   "source": [
    "to_keep = to_keep + to_keep[::-1] + to_keep + to_keep[::-1]"
   ]
  },
  {
   "cell_type": "code",
   "execution_count": 13,
   "id": "a782ef2e",
   "metadata": {},
   "outputs": [
    {
     "data": {
      "text/plain": [
       "232"
      ]
     },
     "execution_count": 13,
     "metadata": {},
     "output_type": "execute_result"
    }
   ],
   "source": [
    "len(to_keep)"
   ]
  },
  {
   "cell_type": "code",
   "execution_count": 14,
   "id": "5525f304",
   "metadata": {},
   "outputs": [],
   "source": [
    "for i, file in enumerate(to_keep):\n",
    "    new_name = f'{i:04d}'\n",
    "    copyfile(file, f'data/output-images/combined_test/{new_name}.jpg')"
   ]
  },
  {
   "cell_type": "code",
   "execution_count": null,
   "id": "6498b7d0",
   "metadata": {},
   "outputs": [],
   "source": []
  }
 ],
 "metadata": {
  "kernelspec": {
   "display_name": "conda_python3",
   "language": "python",
   "name": "conda_python3"
  },
  "language_info": {
   "codemirror_mode": {
    "name": "ipython",
    "version": 3
   },
   "file_extension": ".py",
   "mimetype": "text/x-python",
   "name": "python",
   "nbconvert_exporter": "python",
   "pygments_lexer": "ipython3",
   "version": "3.6.13"
  }
 },
 "nbformat": 4,
 "nbformat_minor": 5
}
